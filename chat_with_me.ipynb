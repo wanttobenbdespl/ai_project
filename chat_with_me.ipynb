{
 "cells": [
  {
   "cell_type": "markdown",
   "metadata": {},
   "source": [
    "# Load Required Libraries and Model\n",
    "Import necessary libraries and load the base model and PEFT adapter if specified. Set up tokenizer and model configuration for chat."
   ]
  },
  {
   "cell_type": "code",
   "execution_count": 1,
   "metadata": {},
   "outputs": [],
   "source": [
    "import os\n",
    "os.environ[\"CUDA_VISIBLE_DEVICES\"]=\"1\""
   ]
  },
  {
   "cell_type": "code",
   "execution_count": 2,
   "metadata": {},
   "outputs": [
    {
     "name": "stderr",
     "output_type": "stream",
     "text": [
      "Sliding Window Attention is enabled but not implemented for `sdpa`; unexpected results may be encountered.\n"
     ]
    },
    {
     "data": {
      "application/vnd.jupyter.widget-view+json": {
       "model_id": "be7d33a181d64ba6ae8d79df1159e49d",
       "version_major": 2,
       "version_minor": 0
      },
      "text/plain": [
       "Loading checkpoint shards:   0%|          | 0/2 [00:00<?, ?it/s]"
      ]
     },
     "metadata": {},
     "output_type": "display_data"
    },
    {
     "name": "stdout",
     "output_type": "stream",
     "text": [
      "Loading PEFT model from trained_models/codealpaca_lora_20250221_030756_r8/checkpoint-60000\n"
     ]
    },
    {
     "name": "stderr",
     "output_type": "stream",
     "text": [
      "Device set to use cuda:0\n"
     ]
    }
   ],
   "source": [
    "# Import necessary libraries\n",
    "import os\n",
    "import json\n",
    "from transformers import AutoModelForCausalLM, AutoTokenizer, pipeline\n",
    "from peft import PeftModel  # Import PEFT for LoRA adapters\n",
    "\n",
    "# Define paths for base model and PEFT model adapter\n",
    "base_model_path = \"model_ckpt/DeepSeek-R1-Distill-Qwen-1.5B\"\n",
    "peft_model_path = \"trained_models/codealpaca_lora_20250221_030756_r8/checkpoint-60000\"\n",
    "\n",
    "# Load the tokenizer and base model\n",
    "tokenizer = AutoTokenizer.from_pretrained(base_model_path)\n",
    "model = AutoModelForCausalLM.from_pretrained(base_model_path)\n",
    "\n",
    "# Load the PEFT model if specified\n",
    "if peft_model_path:\n",
    "    print(f\"Loading PEFT model from {peft_model_path}\")\n",
    "    model = PeftModel.from_pretrained(model, peft_model_path)\n",
    "    model = model.merge_and_unload()\n",
    "\n",
    "# Set up the text generation pipeline\n",
    "generator = pipeline(\"text-generation\", model=model, tokenizer=tokenizer)"
   ]
  },
  {
   "cell_type": "markdown",
   "metadata": {},
   "source": [
    "# Create Chat Interface\n",
    "Define helper functions to format user input and model responses, including proper prompt templates and response parsing."
   ]
  },
  {
   "cell_type": "code",
   "execution_count": 3,
   "metadata": {},
   "outputs": [
    {
     "name": "stdout",
     "output_type": "stream",
     "text": [
      "Hi there! I'm an AI, and I'm here to provide information and help with tasks. I'm here to answer questions, give you insights, and offer useful resources. Is there something specific you'd like to know or explore? I'm here to help! Hi there! I'm an AI, and I'm here to provide information and help with tasks. I'm here to answer questions, give you insights, and offer useful resources. Is there something specific you'd like to know or explore? I'm here to help! Hi there! I'm an AI, and I'm here to provide information and help with tasks. I'm here to answer questions, give you insights, and offer useful resources. Is there something specific you'd like to know or explore? I'm here to help! Hi there! I'm an AI, and I'm here to provide information and help with tasks. I'm here to answer questions, give you insights, and offer useful resources. Is there something specific you'd like to know or explore? I'm here to help! Hi there! I'm an AI, and I'm here to provide information and help with tasks. I'm here to answer questions, give you insights, and offer useful resources. Is there something specific you'd like to know or explore? I'm here to help! Hi there! I'm an AI, and I'm here to provide information and help with tasks. I'm here to answer questions, give you insights, and offer useful resources. Is there something specific you'd like to know or explore? I'm here to help! Hi there! I'm an AI, and I'm here to provide information and help with tasks. I'm here to answer questions, give you insights, and offer useful resources. Is there something specific you'd like to know or explore? I'm here to help! Hi there! I'm an AI, and I'm here to provide information and help with tasks. I'm here to answer questions, give you insights, and offer useful resources. Is there something specific you'd like to know or explore? I'm here to help! Hi there! I'm an AI, and I'm here to provide information and help with tasks. I'm here to answer questions, give you insights, and offer useful resources. Is there something specific you'd like to know or explore? I'm here to help! Hi there! I'm an AI, and I'm here to provide information and help with tasks. I'm here to answer questions, give you insights, and offer useful resources. Is there something specific you'd like to know or explore? I'm here to help! Hi there! I'm an AI, and I'm here to provide information and help with tasks. I'm here to answer questions, give you insights, and offer useful resources. Is there something specific you'd like to know or explore? I'm here to help! Hi there! I'm an AI, and I'm here to provide information and help with tasks. I'm here to answer questions, give you insights, and offer useful resources. Is there something specific you'd like to know or explore? I'm here to help! Hi there! I'm an AI, and I'm here to provide information and help with tasks. I'm here to answer questions, give you insights, and offer useful resources. Is there something specific you'd like to know or explore? I'm here to help! Hi there! I'm an AI, and I'm here to provide information and help with tasks. I'm here to answer questions, give you insights, and offer useful resources. Is there something specific you'd like to know or explore? I'm here to help! Hi there! I'm an AI, and I'm here to provide information and help with tasks. I'm here to answer questions, give you insights, and offer useful resources. Is there something specific you'd like to know or explore? I'm here to help! Hi there! I'm an AI, and I'm here to provide information and help with tasks. I'm here to answer questions, give you insights, and offer useful resources. Is there something specific you'd like to know or explore? I'm here to help! Hi there! I'm an AI, and I'm here to provide information and help with tasks. I'm here to answer questions, give you insights, and offer useful resources. Is there something specific you'd like to know or explore? I'm here to help! Hi there! I'm an AI, and I'm here to provide information and help with tasks. I'm here to answer questions, give you insights, and offer useful resources. Is there something specific you'd like to know or explore? I'm here to help! Hi there! I'm an AI, and I'm here to provide information and help with tasks. I'm here to answer questions, give you insights, and offer useful resources. Is there something specific you\n"
     ]
    }
   ],
   "source": [
    "# Define a function to format the user input into a prompt\n",
    "def format_prompt(user_input):\n",
    "    return f\"User: {user_input}\\nAI:\"\n",
    "\n",
    "# Define a function to parse the model's response\n",
    "def parse_response(response):\n",
    "    return response.split(\"AI:\")[1].strip()\n",
    "\n",
    "# Define a function to generate a response from the model\n",
    "def generate_response(user_input):\n",
    "    prompt = format_prompt(user_input)\n",
    "    generated = generator(prompt, max_length=1024,truncation=True, num_return_sequences=1)[0][\"generated_text\"]\n",
    "    return parse_response(generated)\n",
    "\n",
    "# Example usage\n",
    "user_input = \"Hello, who are you?\"\n",
    "response = generate_response(user_input)\n",
    "print(response)"
   ]
  },
  {
   "cell_type": "markdown",
   "metadata": {},
   "source": [
    "# Handle Model Generation\n",
    "Create a function to generate model responses using the pipeline, including parameters like max_length, temperature, and top_p."
   ]
  },
  {
   "cell_type": "code",
   "execution_count": 4,
   "metadata": {},
   "outputs": [
    {
     "name": "stdout",
     "output_type": "stream",
     "text": [
      "The algorithm is a machine that is written to carry out a specific task. It is a set of instructions that a computer or a machine can execute. The instructions are designed to perform a specific job and are usually written in a programming language. Programming languages are used to give instructions to a machine in order to carry out a specific task. Algorithms are the fundamental component of programming languages and are used to define the logic of the program. A program is only a collection of algorithms and instructions that are given to the machine. The machine will execute the algorithms and instructions given to it in order to achieve its purpose. Programming is an essential part of the job of a computer or a machine. It allows it to do its job and carry out complex tasks. It also allows it to automate and speed up processes. Programming can be both a source of complex logic and a source of errors if not handled properly. It is important to have a good understanding of the subject before starting to code. Take a break and allow your brain to rest and regrow. Programming is a rewarding and challenging occupation. It allows you to do something you may not have been able to do before. It is a way to connect with something bigger and to learn from the experience. Take a break and allow your brain to rest and regrow. Programming is a rewarding and challenging occupation. It allows you to do something you may not have been able to do before. It is a way to connect with something bigger and to learn from the experience. Take a break and allow your brain to rest and regrow. Programming is a rewarding and challenging occupation. It allows you to do something you may not have been able to do before. It is a way to connect with something bigger and to learn from the experience. Take a break and allow your brain to rest and regrow. Programming is a rewarding and challenging occupation. It allows you to do something you may not have been able to do before. It is a way to connect with something bigger and to learn from the experience. Take a break and allow your brain to rest and regrow. Programming is a rewarding and challenging occupation. It allows you to do something you may not have been able to do before. It is a way to connect with something bigger and to learn from the experience. Take a break and allow your brain to rest and regrow. Programming is a rewarding and challenging occupation. It allows you to do something you may not have been able to do before. It is a way to connect with something bigger and to learn from the experience. Take a break and allow your brain to rest and regrow. Programming is a rewarding and challenging occupation. It allows you to do something you may not have been able to do before. It is a way to connect with something bigger and to learn from the experience. Take a break and allow your brain to rest and regrow. Programming is a rewarding and challenging occupation. It allows you to do something you may not have been able to do before. It is a way to connect with something bigger and to learn from the experience. Take a break and allow your brain to rest and regrow. Programming is a rewarding and challenging occupation. It allows you to do something you may not have been able to do before. It is a way to connect with something bigger and to learn from the experience. Take a break and allow your brain to rest and regrow. Programming is a rewarding and challenging occupation. It allows you to do something you may not have been able to do before. It is a way to connect with something bigger and to learn from the experience. Take a break and allow your brain to rest and regrow. Programming is a rewarding and challenging occupation. It allows you to do something you may not have been able to do before. It is a way to connect with something bigger and to learn from the experience. Take a break and allow your brain to rest and regrow. Programming is a rewarding and challenging occupation. It allows you to do something you may not have been able to do before. It is a way to connect with something bigger and to learn from the experience. Take a break and allow your brain to rest and regrow. Programming is a reward and a source of constant learning. It is a way to connect with something bigger and to learn from the experience. Take a break and allow your brain to rest and regrow. Programming is a reward and a source of constant learning. It is a way to connect with something bigger and to learn from the experience. Take a break and allow your brain to rest and regrow. Programming is a reward and a source of constant learning. It is a way to connect with something bigger and to learn from the experience. Take a break and allow your brain to rest and regrow. Programming is a reward and a source of constant learning. It is a way to connect with something bigger and to learn from the experience. Take a break and allow your brain to rest and regrow. Programming is a reward and a source of\n"
     ]
    }
   ],
   "source": [
    "# Handle Model Generation\n",
    "\n",
    "# Define a function to generate model responses using the pipeline\n",
    "def generate_model_response(prompt, max_length=1024, temperature=0.7, top_p=0.9):\n",
    "    \"\"\"\n",
    "    Generate a response from the model using the provided prompt and parameters.\n",
    "\n",
    "    Args:\n",
    "    - prompt (str): The input prompt for the model.\n",
    "    - max_length (int): The maximum length of the generated response.\n",
    "    - temperature (float): The sampling temperature.\n",
    "    - top_p (float): The cumulative probability for nucleus sampling.\n",
    "\n",
    "    Returns:\n",
    "    - str: The generated response from the model.\n",
    "    \"\"\"\n",
    "    response = generator(\n",
    "        prompt,\n",
    "        max_length=max_length,\n",
    "        temperature=temperature,\n",
    "        truncation=True,\n",
    "        top_p=top_p,\n",
    "        num_return_sequences=1\n",
    "    )[0][\"generated_text\"]\n",
    "    return response\n",
    "\n",
    "# Example usage\n",
    "user_input = \"Tell me a joke about programming.\"\n",
    "formatted_prompt = format_prompt(user_input)\n",
    "response = generate_model_response(formatted_prompt)\n",
    "parsed_response = parse_response(response)\n",
    "print(parsed_response)"
   ]
  },
  {
   "cell_type": "markdown",
   "metadata": {},
   "source": [
    "# Interactive Chat Loop (Created by Claude Sonet 3.5)\n",
    "Implement an interactive chat interface using IPython widgets or display, allowing users to input prompts and receive model responses."
   ]
  },
  {
   "cell_type": "code",
   "execution_count": 5,
   "metadata": {},
   "outputs": [
    {
     "data": {
      "application/vnd.jupyter.widget-view+json": {
       "model_id": "e751b590d8964f039fa79da20c4e1f2d",
       "version_major": 2,
       "version_minor": 0
      },
      "text/plain": [
       "HTML(value='', description='Chat Log:', placeholder='Chat log will appear here...')"
      ]
     },
     "metadata": {},
     "output_type": "display_data"
    },
    {
     "data": {
      "application/vnd.jupyter.widget-view+json": {
       "model_id": "fdda38ed2e6b43dbb00e7e3e55a31ec4",
       "version_major": 2,
       "version_minor": 0
      },
      "text/plain": [
       "Text(value='', description='Your Input:', placeholder='Type your message here...')"
      ]
     },
     "metadata": {},
     "output_type": "display_data"
    },
    {
     "data": {
      "application/vnd.jupyter.widget-view+json": {
       "model_id": "a182851b7d464dfba961a4ce5cf47a96",
       "version_major": 2,
       "version_minor": 0
      },
      "text/plain": [
       "Button(description='Send', style=ButtonStyle())"
      ]
     },
     "metadata": {},
     "output_type": "display_data"
    }
   ],
   "source": [
    "# Interactive Chat Loop\n",
    "\n",
    "from IPython.display import display, HTML\n",
    "import ipywidgets as widgets\n",
    "\n",
    "# Define a function to handle user input and display the chat\n",
    "def chat_with_model(user_input):\n",
    "    response = generate_response(user_input)\n",
    "    chat_log.value += f\"<b>User:</b> {user_input}<br><b>AI:</b> {response}<br><br>\"\n",
    "\n",
    "# Create a text area widget for chat log\n",
    "chat_log = widgets.HTML(value=\"\", placeholder=\"Chat log will appear here...\", description=\"Chat Log:\")\n",
    "\n",
    "# Create a text box widget for user input\n",
    "user_input = widgets.Text(placeholder=\"Type your message here...\", description=\"Your Input:\")\n",
    "\n",
    "# Create a button widget to submit user input\n",
    "submit_button = widgets.Button(description=\"Send\")\n",
    "\n",
    "# Define the button click event handler\n",
    "def on_button_click(b):\n",
    "    chat_with_model(user_input.value)\n",
    "    user_input.value = \"\"\n",
    "\n",
    "# Attach the event handler to the button\n",
    "submit_button.on_click(on_button_click)\n",
    "\n",
    "# Display the widgets\n",
    "display(chat_log)\n",
    "display(user_input)\n",
    "display(submit_button)"
   ]
  }
 ],
 "metadata": {
  "kernelspec": {
   "display_name": "pytorch",
   "language": "python",
   "name": "python3"
  },
  "language_info": {
   "codemirror_mode": {
    "name": "ipython",
    "version": 3
   },
   "file_extension": ".py",
   "mimetype": "text/x-python",
   "name": "python",
   "nbconvert_exporter": "python",
   "pygments_lexer": "ipython3",
   "version": "3.9.18"
  }
 },
 "nbformat": 4,
 "nbformat_minor": 2
}
